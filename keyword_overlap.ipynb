{
 "cells": [
  {
   "cell_type": "code",
   "execution_count": 57,
   "metadata": {},
   "outputs": [],
   "source": [
    "import numpy as np\n",
    "import pandas as pd\n",
    "import matplotlib.pyplot as plt\n",
    "import seaborn as sns"
   ]
  },
  {
   "cell_type": "code",
   "execution_count": 58,
   "metadata": {},
   "outputs": [],
   "source": [
    "file_path = \"data/overlap_category-V0.2.csv\"\n",
    "df = pd.read_csv(file_path, index_col=0)\n"
   ]
  },
  {
   "cell_type": "code",
   "execution_count": 59,
   "metadata": {},
   "outputs": [],
   "source": [
    "overlap_matrix = df.to_numpy()"
   ]
  },
  {
   "cell_type": "code",
   "execution_count": 60,
   "metadata": {},
   "outputs": [],
   "source": [
    "# Exclude the last column before summing\n",
    "numeric_data = overlap_matrix[:, :-1]\n",
    "\n",
    "# Convert the numeric part to integers (if necessary)\n",
    "numeric_data = numeric_data.astype(int)\n",
    "\n",
    "# Now sum along each row\n",
    "S = np.sum(numeric_data, axis=1)\n"
   ]
  },
  {
   "cell_type": "code",
   "execution_count": 61,
   "metadata": {},
   "outputs": [
    {
     "name": "stdout",
     "output_type": "stream",
     "text": [
      "Maximum Sum: 273\n"
     ]
    },
    {
     "name": "stderr",
     "output_type": "stream",
     "text": [
      "/tmp/ipykernel_5624/3714142479.py:7: SettingWithCopyWarning: \n",
      "A value is trying to be set on a copy of a slice from a DataFrame.\n",
      "Try using .loc[row_indexer,col_indexer] = value instead\n",
      "\n",
      "See the caveats in the documentation: https://pandas.pydata.org/pandas-docs/stable/user_guide/indexing.html#returning-a-view-versus-a-copy\n",
      "  df_int['Sum'] = numeric_df.sum(axis=1)\n"
     ]
    }
   ],
   "source": [
    "df_int = df[df[\"category\"] == 'Internet Bank']\n",
    "\n",
    "# Select only numeric columns\n",
    "numeric_df = df_int.select_dtypes(include=[np.number])\n",
    "\n",
    "# Calculate the sum across numeric columns for each row\n",
    "df_int['Sum'] = numeric_df.sum(axis=1)\n",
    "\n",
    "# Find the maximum sum value\n",
    "max_sum = df_int['Sum'].max()\n",
    "print(\"Maximum Sum:\", max_sum)"
   ]
  },
  {
   "cell_type": "markdown",
   "metadata": {},
   "source": [
    "### The DataFrame is assumed to have:\n",
    "####   - A \"category\" column (e.g., 'Internet Bank', 'Mega Bank', 'Hamrah Bank')\n",
    "####   - Other columns (with numeric values) representing overlap scores among keywords.\n",
    "####   - The index of the DataFrame holds the keyword names.\n"
   ]
  },
  {
   "cell_type": "code",
   "execution_count": 62,
   "metadata": {},
   "outputs": [
    {
     "name": "stdout",
     "output_type": "stream",
     "text": [
      "0: مگابانک همراه\n",
      "1: 156\n",
      "2: مگابانک همراه\n",
      "overlaps_with_alpha 1 دانلود مستقیم بانک پلاس            5\n",
      "دانلود مگا بانک ملت برای ایفون    19\n",
      "دانلود مگابانک                    25\n",
      "مگا بانک ملت نسخه وب              20\n",
      "مگابانک                           26\n",
      "مگابانک آخرین نسخه                18\n",
      "مگابانک ملت                       24\n",
      "مگابانک نسخه تحت وب               17\n",
      "مگابانک همراه                      0\n",
      "همراه پلاس ملت                     2\n",
      "Name: مگابانک همراه, dtype: int64\n",
      "----------------------------------\n",
      "overlaps_with_alpha2   دانلود مستقیم بانک پلاس           7.0\n",
      "دانلود مگا بانک ملت برای ایفون    3.0\n",
      "دانلود مگابانک                    1.0\n",
      "مگا بانک ملت نسخه وب              3.0\n",
      "مگابانک                           1.0\n",
      "مگابانک آخرین نسخه                3.0\n",
      "مگابانک ملت                       2.0\n",
      "مگابانک نسخه تحت وب               3.0\n",
      "مگابانک همراه                     8.0\n",
      "همراه پلاس ملت                    7.0\n",
      "Name: مگابانک همراه, dtype: float64\n",
      "%%%%%%%%%%%%%%%%%%%%%%%%%%%%%%%%%%%%%%%%\n",
      "0: دانلود همراه بانک ملت\n",
      "1: 215\n",
      "2: دانلود همراه بانک ملت\n",
      "overlaps_with_alpha 1 بانک ملت                                        6\n",
      "بروزرسانی همراه بانک ملت                       28\n",
      "خدمات بانک ملت                                 12\n",
      "دانلود نسخه جدید همراه بانک ملت با رمز پویا    22\n",
      "دانلود همراه بانک ملت                           0\n",
      "دانلود همراه بانک ملت از گوگل پلی              17\n",
      "دانلود همراه بانک ملت اندروید                  28\n",
      "دانلود همراه بانک ملت با لینک مستقیم           30\n",
      "دانلود همراه بانک ملت نسخه ios                 16\n",
      "نصب همراه بانک ملت بدون مراجعه به شعبه         11\n",
      "همراه بانک ملت                                 23\n",
      "همراه بانک ملت نسخه تحت وب                     22\n",
      "Name: دانلود همراه بانک ملت, dtype: int64\n",
      "----------------------------------\n",
      "overlaps_with_alpha2   بانک ملت                                       4.0\n",
      "بروزرسانی همراه بانک ملت                       1.0\n",
      "خدمات بانک ملت                                 3.0\n",
      "دانلود نسخه جدید همراه بانک ملت با رمز پویا    2.0\n",
      "دانلود همراه بانک ملت                          5.0\n",
      "دانلود همراه بانک ملت از گوگل پلی              3.0\n",
      "دانلود همراه بانک ملت اندروید                  1.0\n",
      "دانلود همراه بانک ملت با لینک مستقیم           1.0\n",
      "دانلود همراه بانک ملت نسخه ios                 3.0\n",
      "نصب همراه بانک ملت بدون مراجعه به شعبه         4.0\n",
      "همراه بانک ملت                                 2.0\n",
      "همراه بانک ملت نسخه تحت وب                     2.0\n",
      "Name: دانلود همراه بانک ملت, dtype: float64\n",
      "%%%%%%%%%%%%%%%%%%%%%%%%%%%%%%%%%%%%%%%%\n",
      "0: بانکداری اینترنتی ملت\n",
      "1: 105\n",
      "2: بانکداری اینترنتی ملت\n",
      "overlaps_with_alpha 1 اینترنت بانک ملت          24\n",
      "اینترنتی ملت بانک         21\n",
      "بانک ملت اینترنتی جدید    22\n",
      "بانکداری اینترنتی ملت      0\n",
      "ملت بانک                  12\n",
      "ملت نسخه تحت وب            9\n",
      "وب بانک ملت               17\n",
      "Name: بانکداری اینترنتی ملت, dtype: int64\n",
      "----------------------------------\n",
      "overlaps_with_alpha2   اینترنت بانک ملت           1.0\n",
      "اینترنتی ملت بانک          2.0\n",
      "بانک ملت اینترنتی جدید     2.0\n",
      "بانکداری اینترنتی ملت     10.0\n",
      "ملت بانک                   6.0\n",
      "ملت نسخه تحت وب            7.0\n",
      "وب بانک ملت                4.0\n",
      "Name: بانکداری اینترنتی ملت, dtype: float64\n",
      "%%%%%%%%%%%%%%%%%%%%%%%%%%%%%%%%%%%%%%%%\n"
     ]
    },
    {
     "ename": "ValueError",
     "evalue": "No objects to concatenate",
     "output_type": "error",
     "traceback": [
      "\u001b[0;31m---------------------------------------------------------------------------\u001b[0m",
      "\u001b[0;31mValueError\u001b[0m                                Traceback (most recent call last)",
      "Cell \u001b[0;32mIn[62], line 64\u001b[0m\n\u001b[1;32m     61\u001b[0m     df_final \u001b[38;5;241m=\u001b[39m df_final\u001b[38;5;241m.\u001b[39msort_values(by\u001b[38;5;241m=\u001b[39m\u001b[38;5;124m\"\u001b[39m\u001b[38;5;124mFinal Search Weight\u001b[39m\u001b[38;5;124m\"\u001b[39m, ascending\u001b[38;5;241m=\u001b[39m\u001b[38;5;28;01mFalse\u001b[39;00m)\n\u001b[1;32m     62\u001b[0m     \u001b[38;5;28;01mreturn\u001b[39;00m df_final\n\u001b[0;32m---> 64\u001b[0m df_final \u001b[38;5;241m=\u001b[39m \u001b[43mcompute_search_weights_by_group\u001b[49m\u001b[43m(\u001b[49m\u001b[43mdf\u001b[49m\u001b[43m,\u001b[49m\u001b[43m \u001b[49m\u001b[43mmega_value\u001b[49m\u001b[38;5;241;43m=\u001b[39;49m\u001b[38;5;241;43m8\u001b[39;49m\u001b[43m,\u001b[49m\u001b[43m \u001b[49m\u001b[43mhamrah_value\u001b[49m\u001b[38;5;241;43m=\u001b[39;49m\u001b[38;5;241;43m5\u001b[39;49m\u001b[43m,\u001b[49m\u001b[43m \u001b[49m\u001b[43minternet_value\u001b[49m\u001b[38;5;241;43m=\u001b[39;49m\u001b[38;5;241;43m10\u001b[39;49m\u001b[43m)\u001b[49m\n\u001b[1;32m     66\u001b[0m \u001b[38;5;66;03m# display(df_final)\u001b[39;00m\n",
      "Cell \u001b[0;32mIn[62], line 59\u001b[0m, in \u001b[0;36mcompute_search_weights_by_group\u001b[0;34m(df, mega_value, hamrah_value, internet_value)\u001b[0m\n\u001b[1;32m     37\u001b[0m     \u001b[38;5;28mprint\u001b[39m(\u001b[38;5;124m\"\u001b[39m\u001b[38;5;132;01m%%\u001b[39;00m\u001b[38;5;132;01m%%\u001b[39;00m\u001b[38;5;132;01m%%\u001b[39;00m\u001b[38;5;132;01m%%\u001b[39;00m\u001b[38;5;132;01m%%\u001b[39;00m\u001b[38;5;132;01m%%\u001b[39;00m\u001b[38;5;132;01m%%\u001b[39;00m\u001b[38;5;132;01m%%\u001b[39;00m\u001b[38;5;132;01m%%\u001b[39;00m\u001b[38;5;132;01m%%\u001b[39;00m\u001b[38;5;132;01m%%\u001b[39;00m\u001b[38;5;132;01m%%\u001b[39;00m\u001b[38;5;132;01m%%\u001b[39;00m\u001b[38;5;132;01m%%\u001b[39;00m\u001b[38;5;132;01m%%\u001b[39;00m\u001b[38;5;132;01m%%\u001b[39;00m\u001b[38;5;132;01m%%\u001b[39;00m\u001b[38;5;132;01m%%\u001b[39;00m\u001b[38;5;132;01m%%\u001b[39;00m\u001b[38;5;132;01m%%\u001b[39;00m\u001b[38;5;124m\"\u001b[39m)\n\u001b[1;32m     40\u001b[0m     \u001b[38;5;66;03m# if max_overlap > 0:\u001b[39;00m\n\u001b[1;32m     41\u001b[0m     \u001b[38;5;66;03m#     final_weights = user_value - (user_value - 1) * (overlaps_with_alpha / max_overlap)\u001b[39;00m\n\u001b[1;32m     42\u001b[0m     \u001b[38;5;66;03m# else:\u001b[39;00m\n\u001b[0;32m   (...)\u001b[0m\n\u001b[1;32m     56\u001b[0m     \n\u001b[1;32m     57\u001b[0m     \u001b[38;5;66;03m# result_dfs.append(df_group_result)\u001b[39;00m\n\u001b[0;32m---> 59\u001b[0m df_final \u001b[38;5;241m=\u001b[39m \u001b[43mpd\u001b[49m\u001b[38;5;241;43m.\u001b[39;49m\u001b[43mconcat\u001b[49m\u001b[43m(\u001b[49m\u001b[43mresult_dfs\u001b[49m\u001b[43m,\u001b[49m\u001b[43m \u001b[49m\u001b[43mignore_index\u001b[49m\u001b[38;5;241;43m=\u001b[39;49m\u001b[38;5;28;43;01mTrue\u001b[39;49;00m\u001b[43m)\u001b[49m\n\u001b[1;32m     61\u001b[0m df_final \u001b[38;5;241m=\u001b[39m df_final\u001b[38;5;241m.\u001b[39msort_values(by\u001b[38;5;241m=\u001b[39m\u001b[38;5;124m\"\u001b[39m\u001b[38;5;124mFinal Search Weight\u001b[39m\u001b[38;5;124m\"\u001b[39m, ascending\u001b[38;5;241m=\u001b[39m\u001b[38;5;28;01mFalse\u001b[39;00m)\n\u001b[1;32m     62\u001b[0m \u001b[38;5;28;01mreturn\u001b[39;00m df_final\n",
      "File \u001b[0;32m~/codes/sentiments/.venv/lib/python3.12/site-packages/pandas/core/reshape/concat.py:382\u001b[0m, in \u001b[0;36mconcat\u001b[0;34m(objs, axis, join, ignore_index, keys, levels, names, verify_integrity, sort, copy)\u001b[0m\n\u001b[1;32m    379\u001b[0m \u001b[38;5;28;01melif\u001b[39;00m copy \u001b[38;5;129;01mand\u001b[39;00m using_copy_on_write():\n\u001b[1;32m    380\u001b[0m     copy \u001b[38;5;241m=\u001b[39m \u001b[38;5;28;01mFalse\u001b[39;00m\n\u001b[0;32m--> 382\u001b[0m op \u001b[38;5;241m=\u001b[39m \u001b[43m_Concatenator\u001b[49m\u001b[43m(\u001b[49m\n\u001b[1;32m    383\u001b[0m \u001b[43m    \u001b[49m\u001b[43mobjs\u001b[49m\u001b[43m,\u001b[49m\n\u001b[1;32m    384\u001b[0m \u001b[43m    \u001b[49m\u001b[43maxis\u001b[49m\u001b[38;5;241;43m=\u001b[39;49m\u001b[43maxis\u001b[49m\u001b[43m,\u001b[49m\n\u001b[1;32m    385\u001b[0m \u001b[43m    \u001b[49m\u001b[43mignore_index\u001b[49m\u001b[38;5;241;43m=\u001b[39;49m\u001b[43mignore_index\u001b[49m\u001b[43m,\u001b[49m\n\u001b[1;32m    386\u001b[0m \u001b[43m    \u001b[49m\u001b[43mjoin\u001b[49m\u001b[38;5;241;43m=\u001b[39;49m\u001b[43mjoin\u001b[49m\u001b[43m,\u001b[49m\n\u001b[1;32m    387\u001b[0m \u001b[43m    \u001b[49m\u001b[43mkeys\u001b[49m\u001b[38;5;241;43m=\u001b[39;49m\u001b[43mkeys\u001b[49m\u001b[43m,\u001b[49m\n\u001b[1;32m    388\u001b[0m \u001b[43m    \u001b[49m\u001b[43mlevels\u001b[49m\u001b[38;5;241;43m=\u001b[39;49m\u001b[43mlevels\u001b[49m\u001b[43m,\u001b[49m\n\u001b[1;32m    389\u001b[0m \u001b[43m    \u001b[49m\u001b[43mnames\u001b[49m\u001b[38;5;241;43m=\u001b[39;49m\u001b[43mnames\u001b[49m\u001b[43m,\u001b[49m\n\u001b[1;32m    390\u001b[0m \u001b[43m    \u001b[49m\u001b[43mverify_integrity\u001b[49m\u001b[38;5;241;43m=\u001b[39;49m\u001b[43mverify_integrity\u001b[49m\u001b[43m,\u001b[49m\n\u001b[1;32m    391\u001b[0m \u001b[43m    \u001b[49m\u001b[43mcopy\u001b[49m\u001b[38;5;241;43m=\u001b[39;49m\u001b[43mcopy\u001b[49m\u001b[43m,\u001b[49m\n\u001b[1;32m    392\u001b[0m \u001b[43m    \u001b[49m\u001b[43msort\u001b[49m\u001b[38;5;241;43m=\u001b[39;49m\u001b[43msort\u001b[49m\u001b[43m,\u001b[49m\n\u001b[1;32m    393\u001b[0m \u001b[43m\u001b[49m\u001b[43m)\u001b[49m\n\u001b[1;32m    395\u001b[0m \u001b[38;5;28;01mreturn\u001b[39;00m op\u001b[38;5;241m.\u001b[39mget_result()\n",
      "File \u001b[0;32m~/codes/sentiments/.venv/lib/python3.12/site-packages/pandas/core/reshape/concat.py:445\u001b[0m, in \u001b[0;36m_Concatenator.__init__\u001b[0;34m(self, objs, axis, join, keys, levels, names, ignore_index, verify_integrity, copy, sort)\u001b[0m\n\u001b[1;32m    442\u001b[0m \u001b[38;5;28mself\u001b[39m\u001b[38;5;241m.\u001b[39mverify_integrity \u001b[38;5;241m=\u001b[39m verify_integrity\n\u001b[1;32m    443\u001b[0m \u001b[38;5;28mself\u001b[39m\u001b[38;5;241m.\u001b[39mcopy \u001b[38;5;241m=\u001b[39m copy\n\u001b[0;32m--> 445\u001b[0m objs, keys \u001b[38;5;241m=\u001b[39m \u001b[38;5;28;43mself\u001b[39;49m\u001b[38;5;241;43m.\u001b[39;49m\u001b[43m_clean_keys_and_objs\u001b[49m\u001b[43m(\u001b[49m\u001b[43mobjs\u001b[49m\u001b[43m,\u001b[49m\u001b[43m \u001b[49m\u001b[43mkeys\u001b[49m\u001b[43m)\u001b[49m\n\u001b[1;32m    447\u001b[0m \u001b[38;5;66;03m# figure out what our result ndim is going to be\u001b[39;00m\n\u001b[1;32m    448\u001b[0m ndims \u001b[38;5;241m=\u001b[39m \u001b[38;5;28mself\u001b[39m\u001b[38;5;241m.\u001b[39m_get_ndims(objs)\n",
      "File \u001b[0;32m~/codes/sentiments/.venv/lib/python3.12/site-packages/pandas/core/reshape/concat.py:507\u001b[0m, in \u001b[0;36m_Concatenator._clean_keys_and_objs\u001b[0;34m(self, objs, keys)\u001b[0m\n\u001b[1;32m    504\u001b[0m     objs_list \u001b[38;5;241m=\u001b[39m \u001b[38;5;28mlist\u001b[39m(objs)\n\u001b[1;32m    506\u001b[0m \u001b[38;5;28;01mif\u001b[39;00m \u001b[38;5;28mlen\u001b[39m(objs_list) \u001b[38;5;241m==\u001b[39m \u001b[38;5;241m0\u001b[39m:\n\u001b[0;32m--> 507\u001b[0m     \u001b[38;5;28;01mraise\u001b[39;00m \u001b[38;5;167;01mValueError\u001b[39;00m(\u001b[38;5;124m\"\u001b[39m\u001b[38;5;124mNo objects to concatenate\u001b[39m\u001b[38;5;124m\"\u001b[39m)\n\u001b[1;32m    509\u001b[0m \u001b[38;5;28;01mif\u001b[39;00m keys \u001b[38;5;129;01mis\u001b[39;00m \u001b[38;5;28;01mNone\u001b[39;00m:\n\u001b[1;32m    510\u001b[0m     objs_list \u001b[38;5;241m=\u001b[39m \u001b[38;5;28mlist\u001b[39m(com\u001b[38;5;241m.\u001b[39mnot_none(\u001b[38;5;241m*\u001b[39mobjs_list))\n",
      "\u001b[0;31mValueError\u001b[0m: No objects to concatenate"
     ]
    }
   ],
   "source": [
    "import pandas as pd\n",
    "\n",
    "def compute_search_weights_by_group(df, mega_value, hamrah_value, internet_value):\n",
    "    groups = {\n",
    "        \"Mega Bank\": mega_value,\n",
    "        \"Hamrah Bank\": hamrah_value,\n",
    "        \"Internet Bank\": internet_value\n",
    "    }\n",
    "    \n",
    "    result_dfs = []\n",
    "    \n",
    "    for group_name, user_value in groups.items():\n",
    "        group_df = df[df[\"category\"] == group_name].copy()\n",
    "        \n",
    "        group_keywords = group_df.index.tolist()\n",
    "        \n",
    "        group_overlap = group_df.loc[:, group_keywords]\n",
    "       \n",
    "        S_group = group_overlap.sum(axis=1)\n",
    "        #  alpha is name of maximum overlap in each category\n",
    "        alpha_index = S_group.idxmax()\n",
    "        print(\"0:\",alpha_index)\n",
    "        alpha_keyword = S_group.loc[alpha_index]\n",
    "        print(\"1:\", alpha_keyword)\n",
    "        alpha_keyword = group_keywords[group_keywords.index(alpha_index)]\n",
    "        print(\"2:\",alpha_keyword)\n",
    "        \n",
    "\n",
    "        overlaps_with_alpha = group_overlap[alpha_keyword]\n",
    "        \n",
    "        max_overlap = 1 if overlaps_with_alpha.max() ==0  else overlaps_with_alpha.max()\n",
    "\n",
    "        print(\"overlaps_with_alpha 1\",overlaps_with_alpha)\n",
    "        print(\"----------------------------------\")\n",
    "        overlaps_with_alpha =   (user_value - (overlaps_with_alpha / max_overlap)  * (user_value-1)).round()\n",
    "        print(\"overlaps_with_alpha2  \",overlaps_with_alpha)\n",
    "        print(\"%%%%%%%%%%%%%%%%%%%%%%%%%%%%%%%%%%%%%%%%\")\n",
    "\n",
    "        \n",
    "        # if max_overlap > 0:\n",
    "        #     final_weights = user_value - (user_value - 1) * (overlaps_with_alpha / max_overlap)\n",
    "        # else:\n",
    "        #     final_weights = pd.Series([user_value] * len(overlaps_with_alpha), index=overlaps_with_alpha.index)\n",
    "     \n",
    "        # # final_weights = final_weights.round().astype(int).clip(1, user_value)\n",
    "        # final_weights = final_weights.round().astype(int).clip(1, user_value)\n",
    "      \n",
    "        # df_group_result = pd.DataFrame({\n",
    "        #     \"Keyword\": group_keywords,\n",
    "        #     \"Raw Sum\": S_group.values,\n",
    "        #     \"Alpha Keyword\": alpha_keyword,  \n",
    "        #     \"Overlap with Alpha\": overlaps_with_alpha.values,\n",
    "        #     \"Final Search Weight\": final_weights.values,\n",
    "        #     \"Category\": group_name\n",
    "        # })\n",
    "        \n",
    "        # result_dfs.append(df_group_result)\n",
    "    \n",
    "    df_final = pd.concat(result_dfs, ignore_index=True)\n",
    "  \n",
    "    df_final = df_final.sort_values(by=\"Final Search Weight\", ascending=False)\n",
    "    return df_final\n",
    "\n",
    "df_final = compute_search_weights_by_group(df, mega_value=8, hamrah_value=5, internet_value=10)\n",
    "\n",
    "# display(df_final)\n"
   ]
  }
 ],
 "metadata": {
  "kernelspec": {
   "display_name": ".venv",
   "language": "python",
   "name": "python3"
  },
  "language_info": {
   "codemirror_mode": {
    "name": "ipython",
    "version": 3
   },
   "file_extension": ".py",
   "mimetype": "text/x-python",
   "name": "python",
   "nbconvert_exporter": "python",
   "pygments_lexer": "ipython3",
   "version": "3.12.3"
  }
 },
 "nbformat": 4,
 "nbformat_minor": 2
}
