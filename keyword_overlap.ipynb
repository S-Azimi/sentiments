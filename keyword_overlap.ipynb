{
 "cells": [
  {
   "cell_type": "code",
   "execution_count": 1,
   "metadata": {},
   "outputs": [],
   "source": [
    "import numpy as np\n",
    "import pandas as pd\n",
    "import matplotlib.pyplot as plt\n",
    "import seaborn as sns"
   ]
  },
  {
   "cell_type": "code",
   "execution_count": 2,
   "metadata": {},
   "outputs": [],
   "source": [
    "file_path = \"data/overlap_category-V0.2.csv\"\n",
    "df = pd.read_csv(file_path, index_col=0)\n"
   ]
  },
  {
   "cell_type": "code",
   "execution_count": 3,
   "metadata": {},
   "outputs": [],
   "source": [
    "overlap_matrix = df.to_numpy()"
   ]
  },
  {
   "cell_type": "code",
   "execution_count": 4,
   "metadata": {},
   "outputs": [],
   "source": [
    "# Exclude the last column before summing\n",
    "numeric_data = overlap_matrix[:, :-1]\n",
    "\n",
    "# Convert the numeric part to integers (if necessary)\n",
    "numeric_data = numeric_data.astype(int)\n",
    "\n",
    "# Now sum along each row\n",
    "S = np.sum(numeric_data, axis=1)\n"
   ]
  },
  {
   "cell_type": "code",
   "execution_count": 5,
   "metadata": {},
   "outputs": [
    {
     "name": "stdout",
     "output_type": "stream",
     "text": [
      "Maximum Sum: 273\n"
     ]
    },
    {
     "name": "stderr",
     "output_type": "stream",
     "text": [
      "/tmp/ipykernel_159058/3714142479.py:7: SettingWithCopyWarning: \n",
      "A value is trying to be set on a copy of a slice from a DataFrame.\n",
      "Try using .loc[row_indexer,col_indexer] = value instead\n",
      "\n",
      "See the caveats in the documentation: https://pandas.pydata.org/pandas-docs/stable/user_guide/indexing.html#returning-a-view-versus-a-copy\n",
      "  df_int['Sum'] = numeric_df.sum(axis=1)\n"
     ]
    }
   ],
   "source": [
    "df_int = df[df[\"category\"] == 'Internet Bank']\n",
    "\n",
    "# Select only numeric columns\n",
    "numeric_df = df_int.select_dtypes(include=[np.number])\n",
    "\n",
    "# Calculate the sum across numeric columns for each row\n",
    "df_int['Sum'] = numeric_df.sum(axis=1)\n",
    "\n",
    "# Find the maximum sum value\n",
    "max_sum = df_int['Sum'].max()\n",
    "print(\"Maximum Sum:\", max_sum)"
   ]
  },
  {
   "cell_type": "markdown",
   "metadata": {},
   "source": [
    "### The DataFrame is assumed to have:\n",
    "####   - A \"category\" column (e.g., 'Internet Bank', 'Mega Bank', 'Hamrah Bank')\n",
    "####   - Other columns (with numeric values) representing overlap scores among keywords.\n",
    "####   - The index of the DataFrame holds the keyword names.\n"
   ]
  },
  {
   "cell_type": "code",
   "execution_count": 21,
   "metadata": {},
   "outputs": [
    {
     "name": "stdout",
     "output_type": "stream",
     "text": [
      "[ 49 140 155 141 150 126 141 127 156  23]\n"
     ]
    },
    {
     "ename": "AttributeError",
     "evalue": "'numpy.int64' object has no attribute 'values'",
     "output_type": "error",
     "traceback": [
      "\u001b[0;31m---------------------------------------------------------------------------\u001b[0m",
      "\u001b[0;31mAttributeError\u001b[0m                            Traceback (most recent call last)",
      "Cell \u001b[0;32mIn[21], line 56\u001b[0m\n\u001b[1;32m     53\u001b[0m     df_final \u001b[38;5;241m=\u001b[39m df_final\u001b[38;5;241m.\u001b[39msort_values(by\u001b[38;5;241m=\u001b[39m\u001b[38;5;124m\"\u001b[39m\u001b[38;5;124mFinal Search Weight\u001b[39m\u001b[38;5;124m\"\u001b[39m, ascending\u001b[38;5;241m=\u001b[39m\u001b[38;5;28;01mFalse\u001b[39;00m)\n\u001b[1;32m     54\u001b[0m     \u001b[38;5;28;01mreturn\u001b[39;00m df_final\n\u001b[0;32m---> 56\u001b[0m df_final \u001b[38;5;241m=\u001b[39m \u001b[43mcompute_search_weights_by_group\u001b[49m\u001b[43m(\u001b[49m\u001b[43mdf\u001b[49m\u001b[43m,\u001b[49m\u001b[43m \u001b[49m\u001b[43mmega_value\u001b[49m\u001b[38;5;241;43m=\u001b[39;49m\u001b[38;5;241;43m8\u001b[39;49m\u001b[43m,\u001b[49m\u001b[43m \u001b[49m\u001b[43mhamrah_value\u001b[49m\u001b[38;5;241;43m=\u001b[39;49m\u001b[38;5;241;43m5\u001b[39;49m\u001b[43m,\u001b[49m\u001b[43m \u001b[49m\u001b[43minternet_value\u001b[49m\u001b[38;5;241;43m=\u001b[39;49m\u001b[38;5;241;43m10\u001b[39;49m\u001b[43m)\u001b[49m\n\u001b[1;32m     57\u001b[0m df_final\u001b[38;5;241m.\u001b[39msort_values([\u001b[38;5;124m\"\u001b[39m\u001b[38;5;124mCategory\u001b[39m\u001b[38;5;124m\"\u001b[39m,\u001b[38;5;124m\"\u001b[39m\u001b[38;5;124mRaw Sum\u001b[39m\u001b[38;5;124m\"\u001b[39m],inplace\u001b[38;5;241m=\u001b[39m\u001b[38;5;28;01mTrue\u001b[39;00m)\n\u001b[1;32m     58\u001b[0m display(df_final)\n",
      "Cell \u001b[0;32mIn[21], line 23\u001b[0m, in \u001b[0;36mcompute_search_weights_by_group\u001b[0;34m(df, mega_value, hamrah_value, internet_value)\u001b[0m\n\u001b[1;32m     20\u001b[0m \u001b[38;5;28mprint\u001b[39m(S_group)\n\u001b[1;32m     22\u001b[0m S_group \u001b[38;5;241m=\u001b[39m group_overlap\u001b[38;5;241m.\u001b[39msum(axis\u001b[38;5;241m=\u001b[39m\u001b[38;5;241m1\u001b[39m)\n\u001b[0;32m---> 23\u001b[0m \u001b[38;5;28mprint\u001b[39m(\u001b[43mS_group\u001b[49m\u001b[38;5;241;43m.\u001b[39;49m\u001b[43miloc\u001b[49m\u001b[43m[\u001b[49m\u001b[38;5;241;43m0\u001b[39;49m\u001b[43m]\u001b[49m\u001b[38;5;241;43m.\u001b[39;49m\u001b[43mvalues\u001b[49m)\n\u001b[1;32m     25\u001b[0m alpha_index \u001b[38;5;241m=\u001b[39m np\u001b[38;5;241m.\u001b[39margmax(S_group)\n\u001b[1;32m     26\u001b[0m alpha_keyword \u001b[38;5;241m=\u001b[39m group_keywords[alpha_index]\n",
      "\u001b[0;31mAttributeError\u001b[0m: 'numpy.int64' object has no attribute 'values'"
     ]
    }
   ],
   "source": [
    "def compute_search_weights_by_group(df, mega_value, hamrah_value, internet_value):\n",
    "    groups = {\n",
    "        \"Mega Bank\": mega_value,\n",
    "        \"Hamrah Bank\": hamrah_value,\n",
    "        \"Internet Bank\": internet_value\n",
    "    }\n",
    "    \n",
    "    result_dfs = []\n",
    "    \n",
    "    for group_name, user_value in groups.items():\n",
    "\n",
    "        group_df = df[df[\"category\"] == group_name].copy()\n",
    "        \n",
    "        group_keywords = group_df.index.tolist()\n",
    "        \n",
    "        group_overlap = group_df.loc[:, group_keywords]\n",
    "\n",
    "       \n",
    "        S_group = np.sum(group_overlap.to_numpy(), axis=1)\n",
    "        print(S_group)\n",
    "\n",
    "        S_group = group_overlap.sum(axis=1)\n",
    "        print(S_group.iloc[0].values)\n",
    "        \n",
    "        alpha_index = np.argmax(S_group)\n",
    "        alpha_keyword = group_keywords[alpha_index]\n",
    "        \n",
    "        overlaps_with_alpha = group_overlap[alpha_keyword].to_numpy()\n",
    "        \n",
    "        max_overlap = np.max(overlaps_with_alpha)\n",
    "       \n",
    "        if max_overlap > 0:\n",
    "            final_weights = user_value - (user_value - 1) * (overlaps_with_alpha / max_overlap)\n",
    "        else:\n",
    "            final_weights = np.full_like(overlaps_with_alpha, user_value)\n",
    "     \n",
    "        final_weights = np.round(final_weights).astype(int)\n",
    "        final_weights = np.clip(final_weights, 1, int(user_value))\n",
    "      \n",
    "        df_group_result = pd.DataFrame({\n",
    "            \"Keyword\": group_keywords,\n",
    "            \"Raw Sum\": S_group,\n",
    "            \"Alpha Keyword\": alpha_keyword,  \n",
    "            \"Overlap with Alpha\": overlaps_with_alpha,\n",
    "            \"Final Search Weight\": final_weights,\n",
    "            \"Category\": group_name\n",
    "        })\n",
    "        \n",
    "        result_dfs.append(df_group_result)\n",
    "    \n",
    "    df_final = pd.concat(result_dfs, ignore_index=True)\n",
    "  \n",
    "    df_final = df_final.sort_values(by=\"Final Search Weight\", ascending=False)\n",
    "    return df_final\n",
    "\n",
    "df_final = compute_search_weights_by_group(df, mega_value=8, hamrah_value=5, internet_value=10)\n",
    "df_final.sort_values([\"Category\",\"Raw Sum\"],inplace=True)\n",
    "display(df_final)"
   ]
  }
 ],
 "metadata": {
  "kernelspec": {
   "display_name": ".venv",
   "language": "python",
   "name": "python3"
  },
  "language_info": {
   "codemirror_mode": {
    "name": "ipython",
    "version": 3
   },
   "file_extension": ".py",
   "mimetype": "text/x-python",
   "name": "python",
   "nbconvert_exporter": "python",
   "pygments_lexer": "ipython3",
   "version": "3.12.3"
  }
 },
 "nbformat": 4,
 "nbformat_minor": 2
}
